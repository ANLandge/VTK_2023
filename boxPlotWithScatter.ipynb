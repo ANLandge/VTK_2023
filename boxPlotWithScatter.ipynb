{
  "nbformat": 4,
  "nbformat_minor": 0,
  "metadata": {
    "colab": {
      "provenance": [],
      "authorship_tag": "ABX9TyPCU39deAbZisn+0sAHHx/B",
      "include_colab_link": true
    },
    "kernelspec": {
      "name": "python3",
      "display_name": "Python 3"
    },
    "language_info": {
      "name": "python"
    }
  },
  "cells": [
    {
      "cell_type": "markdown",
      "metadata": {
        "id": "view-in-github",
        "colab_type": "text"
      },
      "source": [
        "<a href=\"https://colab.research.google.com/github/ANLandge/VTK_2023/blob/main/boxPlotWithScatter.ipynb\" target=\"_parent\"><img src=\"https://colab.research.google.com/assets/colab-badge.svg\" alt=\"Open In Colab\"/></a>"
      ]
    },
    {
      "cell_type": "code",
      "execution_count": 1,
      "metadata": {
        "id": "IYyMRLAuEFnc"
      },
      "outputs": [],
      "source": [
        "import seaborn as sns\n",
        "import matplotlib.pyplot as plt\n",
        "\n",
        "def boxplot_with_scatter(data, filename, xlabel = \"treatment\", ylabel= \"Fluorescence\"):\n",
        "    # Create figure and axis objects\n",
        "    fig, ax = plt.subplots(figsize=(3, 2))\n",
        "\n",
        "    # Create boxplot with whiskers at 1.5 times the interquartile range\n",
        "    sns.boxplot(data=data, ax=ax, whis=1.5)\n",
        "\n",
        "    # Add scatter plot on top of the boxplot\n",
        "    sns.stripplot(data=data, ax=ax, color=\"k\", size= 2)\n",
        "\n",
        "    # Set x and y axis labels\n",
        "    ax.set_xlabel(xlabel)\n",
        "    ax.set_ylabel(ylabel)\n",
        "\n",
        "    # Save plot to a pdf file\n",
        "    plt.savefig(filename, dpi=300, bbox_inches=\"tight\", transparent= \"True\")\n"
      ]
    },
    {
      "cell_type": "code",
      "source": [
        "import pandas as pd\n",
        "import numpy as np\n",
        "\n",
        "# global plot settings\n",
        "# plt.rcParams[\"font.family\"] = \"Arial\"\n",
        "plt.rcParams[\"font.size\"] = 6\n",
        "plt.rcParams['legend.fontsize'] = 6\n",
        "\n",
        "# Create example dataset\n",
        "dataA = np.random.normal(10, 5, 50)\n",
        "dataB = np.random.normal(20, 6, 50)\n",
        "dataC = np.random.normal(50, 8, 50)\n",
        "data = pd.DataFrame(np.array([dataA, dataB, dataC]).T, columns = ['A', 'B', 'C'])\n",
        "\n",
        "# Call function to create boxplot with scatter and save to pdf\n",
        "boxplot_with_scatter(data, \"example_plot.pdf\")\n"
      ],
      "metadata": {
        "colab": {
          "base_uri": "https://localhost:8080/",
          "height": 279
        },
        "id": "og0cuBzsEIKz",
        "outputId": "1f614619-c535-4f4d-8fdd-66cf98b5d85e"
      },
      "execution_count": 2,
      "outputs": [
        {
          "output_type": "stream",
          "name": "stderr",
          "text": [
            "/usr/local/lib/python3.10/dist-packages/seaborn/categorical.py:166: FutureWarning: Setting a gradient palette using color= is deprecated and will be removed in version 0.13. Set `palette='dark:k'` for same effect.\n",
            "  warnings.warn(msg, FutureWarning)\n"
          ]
        },
        {
          "output_type": "display_data",
          "data": {
            "text/plain": [
              "<Figure size 300x200 with 1 Axes>"
            ],
            "image/png": "[encoded data removed]"
          },
          "metadata": {}
        }
      ]
    }
  ]
}